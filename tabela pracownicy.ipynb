{
 "cells": [
  {
   "cell_type": "code",
   "execution_count": 494,
   "metadata": {},
   "outputs": [],
   "source": [
    "import mysql.connector\n",
    "import numpy as np\n",
    "import random\n",
    "import pandas as pd\n",
    "import time"
   ]
  },
  {
   "cell_type": "markdown",
   "metadata": {},
   "source": [
    "Czas pracy warsztatu: 01.05.22 - teraz"
   ]
  },
  {
   "cell_type": "markdown",
   "metadata": {},
   "source": [
    "**TABELA pracownicy**"
   ]
  },
  {
   "cell_type": "code",
   "execution_count": 495,
   "metadata": {},
   "outputs": [
    {
     "name": "stdout",
     "output_type": "stream",
     "text": [
      "['ARKADIUSZ' 'STANISŁAW' 'SEBASTIAN' 'ADAM' 'TOMASZ' 'MAREK' 'KAROL'\n",
      " 'JÓZEF']\n",
      "['GROMALA' 'TROJANOWSKI' 'ZBIEĆ' 'LEŚNIAK' 'GODLEWSKI' 'ŁAKATOSZ' 'BOGIEL'\n",
      " 'JOP']\n"
     ]
    }
   ],
   "source": [
    "#losowanie imion i nazwisk męskich\n",
    "dane = pd.read_csv('imiona_meskie.csv')\n",
    "imiona_m = dane[\"IMIĘ_PIERWSZE\"]\n",
    "imiona_m_liczba = dane[\"LICZBA_WYSTĄPIEŃ\"]\n",
    "liczba_suma = sum(imiona_m_liczba)\n",
    "imiona_m_prawdo = [i/liczba_suma for i in imiona_m_liczba]\n",
    "\n",
    "n_m = 8\n",
    "wybrane_imiona_m = np.random.choice(imiona_m, size = n_m, p = imiona_m_prawdo)\n",
    "print(wybrane_imiona_m)\n",
    "\n",
    "\n",
    "dane = pd.read_csv('nazwiska_meskie.csv')\n",
    "nazwiska_m = dane[\"Nawisko aktualne\"]\n",
    "nazwiska_m_liczba = dane[\"Liczba\"]\n",
    "liczba_suma = sum(nazwiska_m_liczba)\n",
    "nazwiska_m_prawdo = [i/liczba_suma for i in nazwiska_m_liczba]\n",
    "\n",
    "wybrane_nazwiska_m = np.random.choice(nazwiska_m, size = n_m, p = nazwiska_m_prawdo)\n",
    "print(wybrane_nazwiska_m)"
   ]
  },
  {
   "cell_type": "code",
   "execution_count": 496,
   "metadata": {},
   "outputs": [
    {
     "name": "stdout",
     "output_type": "stream",
     "text": [
      "['MELANIA' 'HALINA']\n",
      "['JEZIERSKA' 'SZCZESIAK']\n"
     ]
    }
   ],
   "source": [
    "#losowanie imion i nazwisk żeńskich\n",
    "dane = pd.read_csv('imiona_zenskie.csv')\n",
    "imiona_z = dane[\"IMIĘ_PIERWSZE\"]\n",
    "imiona_z_liczba = dane[\"LICZBA_WYSTĄPIEŃ\"]\n",
    "liczba_suma = sum(imiona_z_liczba)\n",
    "imiona_z_prawdo = [i/liczba_suma for i in imiona_z_liczba]\n",
    "\n",
    "n_z = 2\n",
    "wybrane_imiona_z = np.random.choice(imiona_z, size = n_z, p = imiona_z_prawdo)\n",
    "print(wybrane_imiona_z)\n",
    "\n",
    "\n",
    "dane = pd.read_csv('nazwiska_zenskie.csv')\n",
    "nazwiska_z = dane[\"Nawisko aktualne\"]\n",
    "nazwiska_z_liczba = dane[\"Liczba\"]\n",
    "liczba_suma = sum(nazwiska_z_liczba)\n",
    "nazwiska_z_prawdo = [i/liczba_suma for i in nazwiska_z_liczba]\n",
    "\n",
    "wybrane_nazwiska_z = np.random.choice(nazwiska_z, size = n_z, p = nazwiska_z_prawdo)\n",
    "print(wybrane_nazwiska_z)"
   ]
  },
  {
   "cell_type": "code",
   "execution_count": 497,
   "metadata": {},
   "outputs": [
    {
     "name": "stdout",
     "output_type": "stream",
     "text": [
      "['SEBASTIAN', 'ARKADIUSZ', 'KAROL', 'STANISŁAW', 'JÓZEF', 'MAREK', 'TOMASZ', 'ADAM', 'MELANIA', 'HALINA']\n",
      "['ZBIEĆ', 'GROMALA', 'BOGIEL', 'TROJANOWSKI', 'JOP', 'ŁAKATOSZ', 'GODLEWSKI', 'LEŚNIAK', 'JEZIERSKA', 'SZCZESIAK']\n"
     ]
    }
   ],
   "source": [
    "#połączenie list z imionami/nazwiskami damskimi i męskimi oraz przemieszanie ich (parami)\n",
    "\n",
    "imiona = list(wybrane_imiona_m) + list(wybrane_imiona_z)\n",
    "nazwiska = list(wybrane_nazwiska_m) + list(wybrane_nazwiska_z)\n",
    "im_nazw = list(zip(imiona, nazwiska))\n",
    "random.shuffle(im_nazw)\n",
    "\n",
    "imiona[:], nazwiska[:] = zip(*im_nazw)\n",
    "print(imiona)\n",
    "print(nazwiska)"
   ]
  },
  {
   "cell_type": "code",
   "execution_count": 498,
   "metadata": {},
   "outputs": [],
   "source": [
    "#id_stanowiska (na początku kierownik i mechanik)\n",
    "id_stanowiska = [1,3,5,3,6,3,3,4,2,6]"
   ]
  },
  {
   "cell_type": "code",
   "execution_count": 499,
   "metadata": {},
   "outputs": [
    {
     "name": "stdout",
     "output_type": "stream",
     "text": [
      "['2022-05-01', '2022-05-01', '2022-06-01', '2022-11-03', '2023-02-18', '2023-05-14', '2023-08-26', '2023-10-23', '2023-12-02', '2023-12-20']\n",
      "['2030-01-01', '2030-01-01', '2023-05-20', '2030-01-01', '2023-07-12', '2030-01-01', '2030-01-01', '2030-01-01', '2023-12-13', '2030-01-01']\n"
     ]
    }
   ],
   "source": [
    "#funkcja na potrzebę funkcji random_date (proporcja)\n",
    "#https://stackoverflow.com/questions/553303/generate-a-random-date-between-two-other-dates\n",
    "def str_time_prop(start, end, time_format, prop):          \n",
    "    stime = time.mktime(time.strptime(start, time_format))\n",
    "    etime = time.mktime(time.strptime(end, time_format))\n",
    "    ptime = stime + prop * (etime - stime)\n",
    "    return time.strftime(time_format, time.localtime(ptime))\n",
    "\n",
    "#losowa data między dwoma podanymi datami\n",
    "def random_date(start, end, prop):\n",
    "    return str_time_prop(start, end, '%Y-%m-%d', prop)\n",
    "\n",
    "data_zatrudnienia = [\"2022-05-01\", \"2022-05-01\"] #2 pracowników pracuje od początku firmy\n",
    "for i in range(8):\n",
    "    data_zatrudnienia.append(random_date(\"2022-05-01\", \"2024-02-01\", random.random()))\n",
    "\n",
    "data_zatrudnienia = sorted(data_zatrudnienia)\n",
    "print(data_zatrudnienia)\n",
    "\n",
    "data_zwolnienia = 10*[\"2030-01-01\"]  #tutaj jakby wszyscy pracowali do dzisiaj\n",
    "for i in range(3):        \n",
    "    r = random.randint(2,9)          #dwaj pierwsi pracownicy na pewno ciągle pracują \n",
    "                                     #(żeby zawsze był ten sam kierownik i choć jeden mechanik)\n",
    "    while data_zwolnienia[r] != \"2030-01-01\":\n",
    "        r = random.randint(2,9)\n",
    "    data_zwolnienia[r] = random_date(data_zatrudnienia[r], \"2024-03-01\", random.random())\n",
    "    \n",
    "print(data_zwolnienia)"
   ]
  },
  {
   "cell_type": "code",
   "execution_count": 500,
   "metadata": {},
   "outputs": [
    {
     "name": "stdout",
     "output_type": "stream",
     "text": [
      "[875192748, 982207050, 627446170, 205371805, 350294809, 303951246, 666468488, 197400907, 259608616, 481597703]\n"
     ]
    }
   ],
   "source": [
    "#numery telefonów\n",
    "telefony = []\n",
    "for i in range(10):\n",
    "    telefony.append(random.randint(100000000,999999999))\n",
    "\n",
    "print(telefony)"
   ]
  },
  {
   "cell_type": "code",
   "execution_count": 501,
   "metadata": {},
   "outputs": [
    {
     "name": "stdout",
     "output_type": "stream",
     "text": [
      "['sebastzb41@odpicujmibryke.pl', 'arkadi.gr@odpicujmibryke.pl', 'ka-bogi78@odpicujmibryke.pl', 'sta.trojan@odpicujmibryke.pl', 'józejo@odpicujmibryke.pl', 'ma.ła14@odpicujmibryke.pl', 'tomas.godlewsk5@odpicujmibryke.pl', 'adaleś@odpicujmibryke.pl', 'melanijez@odpicujmibryke.pl', 'haszcze@odpicujmibryke.pl']\n"
     ]
    }
   ],
   "source": [
    "#email\n",
    "\n",
    "def generate_email(first_name, last_name):\n",
    "    email_end = \"@odpicujmibryke.pl\"\n",
    "\n",
    "    if \" \" in first_name:\n",
    "        first_name = first_name.split(\" \")[0]\n",
    "\n",
    "    email = (first_name[0: random.randint(2, len(first_name) - 1)] +\n",
    "             random.choices(['', '.', '-'], weights=[0.7, 0.2, 0.1])[0] +\n",
    "             last_name[0: random.randint(2, len(last_name) - 1)])\n",
    "    \n",
    "    email = email.lower()\n",
    "    \n",
    "    email += str(random.choices(['', str(random.randint(0, 100))], weights=[0.4, 0.6])[0])\n",
    "    email += email_end\n",
    "    \n",
    "    return email\n",
    "\n",
    "emaile = []\n",
    "for i in range(10):\n",
    "    emaile.append(generate_email(imiona[i], nazwiska[i]))\n",
    "\n",
    "print(emaile)"
   ]
  },
  {
   "cell_type": "markdown",
   "metadata": {},
   "source": [
    "**TABELA Stanowisko**"
   ]
  },
  {
   "cell_type": "markdown",
   "metadata": {},
   "source": [
    "Stanowiska pracownicze\n",
    "\n",
    "Na stałe w firmie: 1 kierownik i inni (w tym na pewno 1 mechanik).\n",
    "\n",
    "Poza tym 3 osoby zwolnione na przestrzeni istnienia firmy."
   ]
  },
  {
   "cell_type": "code",
   "execution_count": 502,
   "metadata": {},
   "outputs": [],
   "source": [
    "\n",
    "#jakie stanowisko wariacie\n",
    "stanowiska = [\"kierownik\", \"elektronik\", \"mechanik\", \"diagnostyk\", \"lakiernik\", \"blacharz\"]\n",
    "wyplata = [8500, 6000, 5900, 5500, 5400, 4900]"
   ]
  },
  {
   "cell_type": "markdown",
   "metadata": {},
   "source": [
    "**ŁĄCZENIE Z SQL**"
   ]
  },
  {
   "cell_type": "code",
   "execution_count": 503,
   "metadata": {},
   "outputs": [
    {
     "name": "stdout",
     "output_type": "stream",
     "text": [
      "Połączenie udane\n"
     ]
    }
   ],
   "source": [
    "con = mysql.connector.connect(\n",
    "    host = \"giniewicz.it\",\n",
    "    user = \"team11\",\n",
    "    password = \"te@m24ii\",\n",
    "    database = \"team11\"\n",
    ")\n",
    "\n",
    "if(con):\n",
    "    print(\"Połączenie udane\")\n",
    "else:\n",
    "    print(\"Połączenie nieudane\")\n",
    "\n",
    "mycursor = con.cursor()"
   ]
  },
  {
   "cell_type": "markdown",
   "metadata": {},
   "source": [
    "Tabela stanowisko"
   ]
  },
  {
   "cell_type": "code",
   "execution_count": 504,
   "metadata": {},
   "outputs": [],
   "source": [
    "#Usuwanie tabeli \"stanowisko\", jeśli już istnieje\n",
    "mycursor.execute(\"DROP TABLE IF EXISTS stanowisko\")\n",
    "\n",
    "#Tworzenie pustej tabeli\n",
    "sql ='''CREATE TABLE stanowisko(\n",
    "   id_stanowiska INT UNSIGNED AUTO_INCREMENT PRIMARY KEY,\n",
    "   opis VARCHAR(40) NOT NULL,\n",
    "   wypłata INT UNSIGNED\n",
    ");'''\n",
    "mycursor.execute(sql)"
   ]
  },
  {
   "cell_type": "code",
   "execution_count": 505,
   "metadata": {},
   "outputs": [],
   "source": [
    "for i in range(6):   \n",
    "    # Przygotownie do wstawienia danych\n",
    "   insert = (\n",
    "      \"INSERT INTO stanowisko(opis, wypłata)\"\n",
    "      \"VALUES (%s, %s)\"\n",
    "   )\n",
    "   data = (stanowiska[i], wyplata[i])\n",
    "\n",
    "   try:\n",
    "      # Wstawienie wiersza\n",
    "      mycursor.execute(insert, data)\n",
    "   \n",
    "      # Zatwierdzenie zmian\n",
    "      con.commit()\n",
    "\n",
    "   except:\n",
    "      # Cofnięcie w razie błędu\n",
    "      con.rollback()"
   ]
  },
  {
   "cell_type": "markdown",
   "metadata": {},
   "source": [
    "Tabela pracownicy"
   ]
  },
  {
   "cell_type": "code",
   "execution_count": 506,
   "metadata": {},
   "outputs": [],
   "source": [
    "mycursor.execute(\"DROP TABLE IF EXISTS pracownicy\")\n",
    "\n",
    "sql ='''CREATE TABLE pracownicy(\n",
    "   id_pracownika INT UNSIGNED AUTO_INCREMENT PRIMARY KEY,\n",
    "   imię VARCHAR(40) NOT NULL,\n",
    "   nazwisko VARCHAR(40) NOT NULL,\n",
    "   id_stanowiska INT UNSIGNED,\n",
    "   data_zatrudnienia TIMESTAMP,\n",
    "   data_zwolnienia TIMESTAMP,\n",
    "   numer_telefonu INT UNSIGNED,\n",
    "   email VARCHAR(40) NOT NULL\n",
    ");'''\n",
    "mycursor.execute(sql)"
   ]
  },
  {
   "cell_type": "code",
   "execution_count": 507,
   "metadata": {},
   "outputs": [],
   "source": [
    "for i in range(10):   \n",
    "   insert = (\n",
    "      \"INSERT INTO pracownicy(imię, nazwisko, id_stanowiska, data_zatrudnienia, data_zwolnienia, numer_telefonu, email)\"\n",
    "      \"VALUES (%s, %s, %s, %s, %s, %s, %s)\"\n",
    "   )\n",
    "   data = (imiona[i], nazwiska[i], id_stanowiska[i], data_zatrudnienia[i], data_zwolnienia[i], telefony[i], emaile[i])\n",
    "\n",
    "   try:\n",
    "      mycursor.execute(insert, data)\n",
    "   \n",
    "      con.commit()\n",
    "\n",
    "   except:\n",
    "      con.rollback()"
   ]
  },
  {
   "cell_type": "code",
   "execution_count": 508,
   "metadata": {},
   "outputs": [],
   "source": [
    "con.close()"
   ]
  }
 ],
 "metadata": {
  "kernelspec": {
   "display_name": "Python 3",
   "language": "python",
   "name": "python3"
  },
  "language_info": {
   "codemirror_mode": {
    "name": "ipython",
    "version": 3
   },
   "file_extension": ".py",
   "mimetype": "text/x-python",
   "name": "python",
   "nbconvert_exporter": "python",
   "pygments_lexer": "ipython3",
   "version": "3.10.2"
  }
 },
 "nbformat": 4,
 "nbformat_minor": 2
}
