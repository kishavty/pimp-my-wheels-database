{
 "cells": [
  {
   "cell_type": "code",
   "execution_count": 46,
   "metadata": {},
   "outputs": [],
   "source": [
    "import mysql.connector\n",
    "import numpy as np\n",
    "import pandas as pd"
   ]
  },
  {
   "cell_type": "markdown",
   "metadata": {},
   "source": [
    "Czas pracy warsztatu: 01.05.22 - teraz"
   ]
  },
  {
   "cell_type": "code",
   "execution_count": 47,
   "metadata": {},
   "outputs": [
    {
     "name": "stdout",
     "output_type": "stream",
     "text": [
      "['SZYMON' 'NIKITA' 'ZBIGNIEW' 'MARIAN' 'ROBERT' 'JAKUB' 'MATTHEW'\n",
      " 'BARTOSZ']\n",
      "['KAZNOWSKI' 'SIUDY' 'SOSIŃSKI' 'KHOMENKO' 'FALANDYSZ' 'MAKSYMIUK'\n",
      " 'PĘDZIŃSKI' 'FLIS']\n"
     ]
    }
   ],
   "source": [
    "#losowanie imion i nazwisk męskich\n",
    "dane = pd.read_csv('imiona_meskie.csv')\n",
    "imiona_m = dane[\"IMIĘ_PIERWSZE\"]\n",
    "imiona_m_liczba = dane[\"LICZBA_WYSTĄPIEŃ\"]\n",
    "liczba_suma = sum(imiona_m_liczba)\n",
    "imiona_m_prawdo = [i/liczba_suma for i in imiona_m_liczba]\n",
    "\n",
    "n_m = 8\n",
    "wybrane_imiona_m = np.random.choice(imiona_m, size = n_m, p = imiona_m_prawdo)\n",
    "print(wybrane_imiona_m)\n",
    "\n",
    "\n",
    "dane = pd.read_csv('nazwiska_meskie.csv')\n",
    "nazwiska_m = dane[\"Nawisko aktualne\"]\n",
    "nazwiska_m_liczba = dane[\"Liczba\"]\n",
    "liczba_suma = sum(nazwiska_m_liczba)\n",
    "nazwiska_m_prawdo = [i/liczba_suma for i in nazwiska_m_liczba]\n",
    "\n",
    "wybrane_nazwiska_m = np.random.choice(nazwiska_m, size = n_m, p = nazwiska_m_prawdo)\n",
    "print(wybrane_nazwiska_m)"
   ]
  },
  {
   "cell_type": "code",
   "execution_count": 48,
   "metadata": {},
   "outputs": [
    {
     "name": "stdout",
     "output_type": "stream",
     "text": [
      "['JULIA' 'JOANNA']\n",
      "['NERĆ' 'PRYKHODKO']\n"
     ]
    }
   ],
   "source": [
    "#losowanie imion i nazwisk żeńskich\n",
    "dane = pd.read_csv('imiona_zenskie.csv')\n",
    "imiona_z = dane[\"IMIĘ_PIERWSZE\"]\n",
    "imiona_z_liczba = dane[\"LICZBA_WYSTĄPIEŃ\"]\n",
    "liczba_suma = sum(imiona_z_liczba)\n",
    "imiona_z_prawdo = [i/liczba_suma for i in imiona_z_liczba]\n",
    "\n",
    "n_z = 2\n",
    "wybrane_imiona_z = np.random.choice(imiona_z, size = n_z, p = imiona_z_prawdo)\n",
    "print(wybrane_imiona_z)\n",
    "\n",
    "\n",
    "dane = pd.read_csv('nazwiska_zenskie.csv')\n",
    "nazwiska_z = dane[\"Nawisko aktualne\"]\n",
    "nazwiska_z_liczba = dane[\"Liczba\"]\n",
    "liczba_suma = sum(nazwiska_z_liczba)\n",
    "nazwiska_z_prawdo = [i/liczba_suma for i in nazwiska_z_liczba]\n",
    "\n",
    "wybrane_nazwiska_z = np.random.choice(nazwiska_z, size = n_z, p = nazwiska_z_prawdo)\n",
    "print(wybrane_nazwiska_z)"
   ]
  },
  {
   "cell_type": "markdown",
   "metadata": {},
   "source": [
    "Stanowiska pracownicze\n",
    "\n",
    "Na stałe w firmie: 1 kierownik, 2 mechaników, 1 diagnostyk, 1 elektronik, 1 blacharz, 1 lakiernik.\n",
    "\n",
    "Poza tym 3 osoby zwolnione na przestrzeni istnienia firmy."
   ]
  },
  {
   "cell_type": "code",
   "execution_count": 49,
   "metadata": {},
   "outputs": [],
   "source": [
    "#jakie stanowisko wariacie\n",
    "stanowiska = [\"kierownik\", \"mechanik\", \"diagnostyk\", \"elektronik\", \"blacharz\", \"lakiernik\"]"
   ]
  },
  {
   "cell_type": "code",
   "execution_count": 50,
   "metadata": {},
   "outputs": [
    {
     "name": "stdout",
     "output_type": "stream",
     "text": [
      "Połączenie udane\n"
     ]
    }
   ],
   "source": [
    "con = mysql.connector.connect(\n",
    "    host = \"giniewicz.it\",\n",
    "    user = \"team11\",\n",
    "    password = \"te@m24ii\",\n",
    "    database = \"team11\"\n",
    ")\n",
    "\n",
    "if(con):\n",
    "    print(\"Połączenie udane\")\n",
    "else:\n",
    "    print(\"Połączenie nieudane\")\n",
    "\n",
    "mycursor = con.cursor()"
   ]
  },
  {
   "cell_type": "code",
   "execution_count": 51,
   "metadata": {},
   "outputs": [],
   "source": [
    "con.close()"
   ]
  }
 ],
 "metadata": {
  "kernelspec": {
   "display_name": "Python 3",
   "language": "python",
   "name": "python3"
  },
  "language_info": {
   "codemirror_mode": {
    "name": "ipython",
    "version": 3
   },
   "file_extension": ".py",
   "mimetype": "text/x-python",
   "name": "python",
   "nbconvert_exporter": "python",
   "pygments_lexer": "ipython3",
   "version": "3.10.2"
  }
 },
 "nbformat": 4,
 "nbformat_minor": 2
}
